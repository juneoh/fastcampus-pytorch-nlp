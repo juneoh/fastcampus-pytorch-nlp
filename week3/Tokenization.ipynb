{
 "cells": [
  {
   "cell_type": "markdown",
   "metadata": {},
   "source": [
    "# Tokenization\n",
    "\n",
    "## Korean Tokenization with KoNLPy"
   ]
  },
  {
   "cell_type": "markdown",
   "metadata": {},
   "source": [
    "### Ubuntu\n",
    "\n",
    "```bash\n",
    "sudo apt-get install g++ openjdk-8-jdk python3-dev\n",
    "pip install konlpy\n",
    "```\n",
    "\n",
    "### macOS\n",
    "\n",
    "```bash\n",
    "pip install konlpy\n",
    "```\n",
    "\n",
    "### Windows\n",
    "\n",
    "1. [Install JDK](http://www.oracle.com/technetwork/java/javase/downloads/index.html)\n",
    "2. [Set JAVA_HOME](http://docs.oracle.com/cd/E19182-01/820-7851/inst_cli_jdk_javahome_t/index.html)\n",
    "3. Install JPype1\n",
    "```cmd\n",
    "pip install JPype1-0.5.7-cp37-none-win_amd64.whl\n",
    "pip install konlpy\n",
    "```"
   ]
  },
  {
   "cell_type": "code",
   "execution_count": null,
   "metadata": {},
   "outputs": [],
   "source": [
    "from konlpy.tag import Hannanum\n",
    "\n",
    "hannanum = Hannanum()\n",
    "hannanum.morphs('나는 밥을 먹는다')"
   ]
  },
  {
   "cell_type": "code",
   "execution_count": null,
   "metadata": {},
   "outputs": [],
   "source": [
    "hannanum.morphs('아이폰 기다리다 지쳐 애플공홈에서 언락폰질러버렸다 6+ 128기가실버ㅋ')"
   ]
  },
  {
   "cell_type": "code",
   "execution_count": null,
   "metadata": {},
   "outputs": [],
   "source": [
    "from konlpy.tag import Okt\n",
    "\n",
    "okt = Okt()\n",
    "okt.morphs('아이폰 기다리다 지쳐 애플공홈에서 언락폰질러버렸다 6+ 128기가실버ㅋ')"
   ]
  },
  {
   "cell_type": "markdown",
   "metadata": {},
   "source": [
    "![](konlpy.png)"
   ]
  },
  {
   "cell_type": "markdown",
   "metadata": {},
   "source": [
    "## English Tokenization with Moses\n",
    "\n",
    "참고: http://www.nltk.org/api/nltk.tokenize.html#module-nltk.tokenize.moses"
   ]
  },
  {
   "cell_type": "code",
   "execution_count": null,
   "metadata": {},
   "outputs": [],
   "source": [
    "import nltk\n",
    "\n",
    "nltk.download('perluniprops')\n",
    "nltk.download('nonbreaking_prefixes')"
   ]
  },
  {
   "cell_type": "code",
   "execution_count": null,
   "metadata": {},
   "outputs": [],
   "source": [
    "from nltk.tokenize.moses import MosesTokenizer\n",
    "\n",
    "moses = MosesTokenizer()\n",
    "sentence = 'According to \\'Ki\\' (which is a name of instructor), there are more than 10,000 ways to tokenize a sentence with various languages.'\n",
    "tokens = moses.tokenize(sentence, escape=False)\n",
    "\n",
    "print(sentence)\n",
    "print(' '.join(tokens))"
   ]
  }
 ],
 "metadata": {
  "kernelspec": {
   "display_name": "Python 3",
   "language": "python",
   "name": "python3"
  },
  "language_info": {
   "codemirror_mode": {
    "name": "ipython",
    "version": 3
   },
   "file_extension": ".py",
   "mimetype": "text/x-python",
   "name": "python",
   "nbconvert_exporter": "python",
   "pygments_lexer": "ipython3",
   "version": "3.6.5"
  }
 },
 "nbformat": 4,
 "nbformat_minor": 2
}
