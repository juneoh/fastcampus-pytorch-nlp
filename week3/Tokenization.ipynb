{
 "cells": [
  {
   "cell_type": "markdown",
   "metadata": {},
   "source": [
    "# Tokenization"
   ]
  },
  {
   "cell_type": "markdown",
   "metadata": {},
   "source": [
    "## How to install Mecab\n",
    "\n",
    "참고: https://konlpy-ko.readthedocs.io/ko/v0.5.1/install/\n",
    "\n",
    "### For Ubuntu\n",
    "```bash\n",
    "$ sudo apt-get install curl\n",
    "$ bash <(curl -s https://raw.githubusercontent.com/konlpy/konlpy/master/scripts/mecab.sh)\n",
    "```\n",
    "\n",
    "### For Mac\n",
    "```bash\n",
    "$ bash <(curl -s https://raw.githubusercontent.com/konlpy/konlpy/master/scripts/mecab.sh)\n",
    "```"
   ]
  },
  {
   "cell_type": "code",
   "execution_count": null,
   "metadata": {},
   "outputs": [],
   "source": [
    "!pip install konlpy nltk"
   ]
  },
  {
   "cell_type": "code",
   "execution_count": null,
   "metadata": {},
   "outputs": [],
   "source": [
    "!mecab -O wakati --input-buffer-size=32000 < ./ted.aligned.ko.refined.txt > ted.aligned.ko.refined.tok.txt"
   ]
  },
  {
   "cell_type": "markdown",
   "metadata": {},
   "source": [
    "## If you use Ubuntu\n",
    "\n",
    "```bash\n",
    "$ cat ./ted.aligned.ko.refined.tok.txt | shuf | head -n 1000000 > ted.aligned.ko.refined.tok.rl-1m.txt\n",
    "```\n",
    "\n",
    "## If you use Mac\n",
    "\n",
    "```bash\n",
    "$ brew install randomize-lines\n",
    "$ cat ./ted.aligned.ko.refined.tok.txt | rl | head -n 1000000 > ted.aligned.ko.refined.tok.rl-1m.txt\n",
    "```"
   ]
  },
  {
   "cell_type": "code",
   "execution_count": null,
   "metadata": {},
   "outputs": [],
   "source": [
    "cat ./ted.aligned.ko.refined.tok.txt | rl | head -n 1000000 > ted.aligned.ko.refined.tok.rl-1m.txt"
   ]
  },
  {
   "cell_type": "code",
   "execution_count": null,
   "metadata": {
    "scrolled": true
   },
   "outputs": [],
   "source": [
    "!wc -l ./*.txt"
   ]
  },
  {
   "cell_type": "markdown",
   "metadata": {},
   "source": [
    "## For Enghlish Tokenization\n",
    "\n",
    "참고: http://www.nltk.org/api/nltk.tokenize.html#module-nltk.tokenize.moses"
   ]
  },
  {
   "cell_type": "code",
   "execution_count": null,
   "metadata": {},
   "outputs": [],
   "source": [
    "from nltk.tokenize.moses import MosesTokenizer\n",
    "\n",
    "t = MosesTokenizer()\n",
    "sent = 'According to \\'Ki\\' (which is a name of instructor), there are more than 10,000 ways to tokenize a sentence with various languages.'\n",
    "tokens = t.tokenize(sent, escape=False)\n",
    "\n",
    "print(sent)\n",
    "print(' '.join(tokens))"
   ]
  }
 ],
 "metadata": {
  "kernelspec": {
   "display_name": "Python 3",
   "language": "python",
   "name": "python3"
  },
  "language_info": {
   "codemirror_mode": {
    "name": "ipython",
    "version": 3
   },
   "file_extension": ".py",
   "mimetype": "text/x-python",
   "name": "python",
   "nbconvert_exporter": "python",
   "pygments_lexer": "ipython3",
   "version": "3.6.5"
  }
 },
 "nbformat": 4,
 "nbformat_minor": 2
}
