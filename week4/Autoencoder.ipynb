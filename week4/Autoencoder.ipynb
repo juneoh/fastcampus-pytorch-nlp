{
 "cells": [
  {
   "cell_type": "markdown",
   "metadata": {},
   "source": [
    "# Autoencoders"
   ]
  },
  {
   "cell_type": "markdown",
   "metadata": {},
   "source": [
    "Welcome our treasured friends, PyTorch and TorchVision."
   ]
  },
  {
   "cell_type": "code",
   "execution_count": 3,
   "metadata": {},
   "outputs": [],
   "source": [
    "import torch\n",
    "import torchvision"
   ]
  },
  {
   "cell_type": "markdown",
   "metadata": {},
   "source": [
    "As we will be using image data, we need to define some preprocessing."
   ]
  },
  {
   "cell_type": "code",
   "execution_count": 4,
   "metadata": {},
   "outputs": [],
   "source": [
    "transform = torchvision.transforms.Compose([\n",
    "    torchvision.transforms.ToTensor(),\n",
    "    torchvision.transforms.Normalize((0.5, ), (0.5, )),\n",
    "])"
   ]
  },
  {
   "cell_type": "markdown",
   "metadata": {},
   "source": [
    "We will be using the MNIST dataset today."
   ]
  },
  {
   "cell_type": "code",
   "execution_count": 5,
   "metadata": {},
   "outputs": [
    {
     "name": "stdout",
     "output_type": "stream",
     "text": [
      "Downloading http://yann.lecun.com/exdb/mnist/train-images-idx3-ubyte.gz\n",
      "Downloading http://yann.lecun.com/exdb/mnist/train-labels-idx1-ubyte.gz\n",
      "Downloading http://yann.lecun.com/exdb/mnist/t10k-images-idx3-ubyte.gz\n",
      "Downloading http://yann.lecun.com/exdb/mnist/t10k-labels-idx1-ubyte.gz\n",
      "Processing...\n",
      "Done!\n"
     ]
    }
   ],
   "source": [
    "data = torchvision.datasets.MNIST(\n",
    "    './',\n",
    "    train=True,\n",
    "    download=True,\n",
    "    transform=transform)"
   ]
  },
  {
   "cell_type": "markdown",
   "metadata": {},
   "source": [
    "Let's define a function to make Jupyter Notebook display our data."
   ]
  },
  {
   "cell_type": "code",
   "execution_count": 6,
   "metadata": {},
   "outputs": [],
   "source": [
    "from matplotlib.pyplot import imshow\n",
    "\n",
    "def show_images(images):\n",
    "    images = images.cpu()\n",
    "    \n",
    "    # Convert grayscale image into RGB channels.\n",
    "    images = images.expand(-1, 3, -1, -1)\n",
    "    \n",
    "    # Make a grid view image of this batch.\n",
    "    images = torchvision.utils.make_grid(images)\n",
    "    \n",
    "    # Unnormalize.\n",
    "    images = images / 2 + 0.5\n",
    "    \n",
    "    # Convert PyTorch tensor to a NumPy array.\n",
    "    images = images.numpy().transpose([1, 2, 0])\n",
    "    \n",
    "    # Display images.\n",
    "    imshow(images)"
   ]
  },
  {
   "cell_type": "markdown",
   "metadata": {},
   "source": [
    "Let's see how the data looks like!"
   ]
  },
  {
   "cell_type": "code",
   "execution_count": 7,
   "metadata": {},
   "outputs": [
    {
     "data": {
      "image/png": "[encoded data removed]",
      "text/plain": [
       "<Figure size 432x288 with 1 Axes>"
      ]
     },
     "metadata": {},
     "output_type": "display_data"
    }
   ],
   "source": [
    "sample_batch = iter(torch.utils.data.DataLoader(\n",
    "    data, shuffle=False, batch_size=8)).next()[0]\n",
    "show_images(sample_batch)"
   ]
  },
  {
   "cell_type": "markdown",
   "metadata": {},
   "source": [
    "Here's some idea of what we'll be building:\n",
    "![](http://curiousily.com/assets/12.what_to_do_when_data_is_missing_part_ii_files/mushroom_encoder.png)"
   ]
  },
  {
   "cell_type": "markdown",
   "metadata": {},
   "source": [
    "Let's define our encoder and decoder modules separately. Simple models can be created with `torch.nn.Sequential`, which saves the effort of defining a class."
   ]
  },
  {
   "cell_type": "code",
   "execution_count": 10,
   "metadata": {},
   "outputs": [
    {
     "name": "stdout",
     "output_type": "stream",
     "text": [
      "Sequential(\n",
      "  (0): Conv2d(1, 16, kernel_size=(3, 3), stride=(3, 3), padding=(1, 1))\n",
      "  (1): ReLU()\n",
      "  (2): MaxPool2d(kernel_size=2, stride=2, padding=0, dilation=1, ceil_mode=False)\n",
      "  (3): Conv2d(16, 8, kernel_size=(3, 3), stride=(2, 2), padding=(1, 1))\n",
      "  (4): ReLU()\n",
      "  (5): MaxPool2d(kernel_size=2, stride=1, padding=0, dilation=1, ceil_mode=False)\n",
      ")\n",
      "Sequential(\n",
      "  (0): ConvTranspose2d(8, 16, kernel_size=(3, 3), stride=(2, 2))\n",
      "  (1): ReLU()\n",
      "  (2): ConvTranspose2d(16, 8, kernel_size=(5, 5), stride=(3, 3), padding=(1, 1))\n",
      "  (3): ReLU()\n",
      "  (4): ConvTranspose2d(8, 1, kernel_size=(2, 2), stride=(2, 2), padding=(1, 1))\n",
      "  (5): Tanh()\n",
      ")\n"
     ]
    }
   ],
   "source": [
    "encoder = torch.nn.Sequential(\n",
    "    torch.nn.Conv2d(1, 16, 3, stride=3, padding=1), # (16, 10, 10)\n",
    "    torch.nn.ReLU(),\n",
    "    torch.nn.MaxPool2d(2, stride=2), # (16, 5, 5)\n",
    "    torch.nn.Conv2d(16, 8, 3, stride=2, padding=1), # (8, 3, 3)\n",
    "    torch.nn.ReLU(),\n",
    "    torch.nn.MaxPool2d(2, stride=1) # (8, 2, 2)\n",
    ")\n",
    "\n",
    "decoder = torch.nn.Sequential(\n",
    "    torch.nn.ConvTranspose2d(8, 16, 3, stride=2), # (16, 5, 5)\n",
    "    torch.nn.ReLU(),\n",
    "    torch.nn.ConvTranspose2d(16, 8, 5, stride=3, padding=1), # (8, 15, 15)\n",
    "    torch.nn.ReLU(),\n",
    "    torch.nn.ConvTranspose2d(8, 1, 2, stride=2, padding=1), # (1, 28, 28)\n",
    "    torch.nn.Tanh()\n",
    ")\n",
    "\n",
    "print(encoder)\n",
    "print(decoder)"
   ]
  },
  {
   "cell_type": "markdown",
   "metadata": {},
   "source": [
    "Don't forget the loss function and the optimizer. As we have two models, we need to let the optimizer know both."
   ]
  },
  {
   "cell_type": "code",
   "execution_count": 11,
   "metadata": {},
   "outputs": [],
   "source": [
    "criterion = torch.nn.MSELoss()\n",
    "\n",
    "from itertools import chain\n",
    "parameters = chain(encoder.parameters(), decoder.parameters())\n",
    "optimizer = torch.optim.Adam(parameters, lr=1e-3, weight_decay=1e-15)"
   ]
  },
  {
   "cell_type": "markdown",
   "metadata": {},
   "source": [
    "Here's some speedup for the lucky ones who have a GPU:"
   ]
  },
  {
   "cell_type": "code",
   "execution_count": 13,
   "metadata": {},
   "outputs": [
    {
     "name": "stdout",
     "output_type": "stream",
     "text": [
      "Using CUDA :)\n"
     ]
    }
   ],
   "source": [
    "GPU_ID = 2\n",
    "\n",
    "if torch.cuda.is_available():\n",
    "    print('Using CUDA :)')\n",
    "    sample_batch = sample_batch.cuda(device=GPU_ID)\n",
    "    encoder = encoder.cuda(device=GPU_ID)\n",
    "    decoder = decoder.cuda(device=GPU_ID)\n",
    "    \n",
    "else:\n",
    "    print('No CUDA :(')"
   ]
  },
  {
   "cell_type": "markdown",
   "metadata": {},
   "source": [
    "Let's batchfiy our data now."
   ]
  },
  {
   "cell_type": "code",
   "execution_count": 14,
   "metadata": {},
   "outputs": [],
   "source": [
    "BATCH_SIZE = 512\n",
    "NUM_WORKERS = 2\n",
    "batches = torch.utils.data.DataLoader(\n",
    "    dataset=data,\n",
    "    shuffle=True,\n",
    "    batch_size=BATCH_SIZE,\n",
    "    num_workers=NUM_WORKERS,\n",
    "     drop_last=True)"
   ]
  },
  {
   "cell_type": "markdown",
   "metadata": {},
   "source": [
    "Finally, let's get training!"
   ]
  },
  {
   "cell_type": "code",
   "execution_count": 15,
   "metadata": {},
   "outputs": [
    {
     "name": "stdout",
     "output_type": "stream",
     "text": [
      "epoch 0: loss 0.659\n",
      "epoch 1: loss 0.419\n",
      "epoch 2: loss 0.354\n",
      "epoch 3: loss 0.319\n",
      "epoch 4: loss 0.292\n",
      "epoch 5: loss 0.249\n",
      "epoch 6: loss 0.207\n",
      "epoch 7: loss 0.188\n",
      "epoch 8: loss 0.179\n",
      "epoch 9: loss 0.173\n",
      "epoch 10: loss 0.168\n",
      "epoch 11: loss 0.165\n",
      "epoch 12: loss 0.162\n",
      "epoch 13: loss 0.159\n",
      "epoch 14: loss 0.157\n",
      "epoch 15: loss 0.155\n",
      "epoch 16: loss 0.154\n",
      "epoch 17: loss 0.153\n",
      "epoch 18: loss 0.152\n",
      "epoch 19: loss 0.151\n",
      "epoch 20: loss 0.150\n",
      "epoch 21: loss 0.150\n",
      "epoch 22: loss 0.149\n",
      "epoch 23: loss 0.148\n",
      "epoch 24: loss 0.147\n",
      "epoch 25: loss 0.147\n",
      "epoch 26: loss 0.146\n",
      "epoch 27: loss 0.146\n",
      "epoch 28: loss 0.145\n",
      "epoch 29: loss 0.145\n",
      "epoch 30: loss 0.144\n",
      "epoch 31: loss 0.144\n"
     ]
    }
   ],
   "source": [
    "NUM_EPOCHS = 32\n",
    "\n",
    "for epoch in range(NUM_EPOCHS):\n",
    "    epoch_loss = 0\n",
    "    with torch.set_grad_enabled(True):\n",
    "        for image, target in batches:\n",
    "            if torch.cuda.is_available():\n",
    "                image = image.cuda(device=GPU_ID)\n",
    "\n",
    "            code = encoder(image)\n",
    "            reconstruction = decoder(code)\n",
    "            loss = criterion(reconstruction, image)\n",
    "            \n",
    "            optimizer.zero_grad()\n",
    "            loss.backward()\n",
    "            optimizer.step()\n",
    "            epoch_loss += float(loss)\n",
    "            \n",
    "    print(f'epoch {epoch}: loss {epoch_loss/len(batches):.3f}')"
   ]
  },
  {
   "cell_type": "markdown",
   "metadata": {},
   "source": [
    "Let's create a checkpoint here in case we need it..."
   ]
  },
  {
   "cell_type": "code",
   "execution_count": 19,
   "metadata": {},
   "outputs": [
    {
     "name": "stdout",
     "output_type": "stream",
     "text": [
      "There is a saved checkpoint already.\n"
     ]
    }
   ],
   "source": [
    "import os\n",
    "\n",
    "if os.path.isfile('autoencoder.pth'):\n",
    "    print('There is a saved checkpoint already.')\n",
    "else:\n",
    "    torch.save([encoder.state_dict(), decoder.state_dict()], 'autoencoder.pth')"
   ]
  },
  {
   "cell_type": "markdown",
   "metadata": {},
   "source": [
    "So we can reload it with:"
   ]
  },
  {
   "cell_type": "code",
   "execution_count": 20,
   "metadata": {},
   "outputs": [],
   "source": [
    "checkpoint = torch.load('autoencoder.pth')\n",
    "encoder.load_state_dict(checkpoint[0])\n",
    "decoder.load_state_dict(checkpoint[1])"
   ]
  },
  {
   "cell_type": "markdown",
   "metadata": {},
   "source": [
    "Let's see the trained results. Here are the sample batch that we extracted earlier:"
   ]
  },
  {
   "cell_type": "code",
   "execution_count": 21,
   "metadata": {},
   "outputs": [
    {
     "data": {
      "image/png": "[encoded data removed]",
      "text/plain": [
       "<Figure size 432x288 with 1 Axes>"
      ]
     },
     "metadata": {},
     "output_type": "display_data"
    }
   ],
   "source": [
    "show_images(sample_batch)"
   ]
  },
  {
   "cell_type": "markdown",
   "metadata": {},
   "source": [
    "And here are our autoencoder's reconstruction of them:"
   ]
  },
  {
   "cell_type": "code",
   "execution_count": 22,
   "metadata": {},
   "outputs": [
    {
     "data": {
      "image/png": "[encoded data removed]",
      "text/plain": [
       "<Figure size 432x288 with 1 Axes>"
      ]
     },
     "metadata": {},
     "output_type": "display_data"
    }
   ],
   "source": [
    "with torch.no_grad():\n",
    "    show_images(decoder(encoder(sample_batch)))"
   ]
  },
  {
   "cell_type": "markdown",
   "metadata": {},
   "source": [
    "What if we want to check the encoded result of a single image?"
   ]
  },
  {
   "cell_type": "code",
   "execution_count": 34,
   "metadata": {},
   "outputs": [
    {
     "ename": "RuntimeError",
     "evalue": "Expected 4-dimensional input for 4-dimensional weight [16, 1, 3, 3], but got input of size [1, 28, 28] instead",
     "output_type": "error",
     "traceback": [
      "\u001b[0;31m---------------------------------------------------------------------------\u001b[0m",
      "\u001b[0;31mRuntimeError\u001b[0m                              Traceback (most recent call last)",
      "\u001b[0;32m<ipython-input-34-2ee19c413814>\u001b[0m in \u001b[0;36m<module>\u001b[0;34m()\u001b[0m\n\u001b[1;32m      1\u001b[0m \u001b[0msingle_batch\u001b[0m \u001b[0;34m=\u001b[0m \u001b[0msample_batch\u001b[0m\u001b[0;34m[\u001b[0m\u001b[0;36m0\u001b[0m\u001b[0;34m]\u001b[0m\u001b[0;34m\u001b[0m\u001b[0m\n\u001b[0;32m----> 2\u001b[0;31m \u001b[0mresult\u001b[0m \u001b[0;34m=\u001b[0m \u001b[0mencoder\u001b[0m\u001b[0;34m(\u001b[0m\u001b[0msingle_batch\u001b[0m\u001b[0;34m)\u001b[0m\u001b[0;34m\u001b[0m\u001b[0m\n\u001b[0m\u001b[1;32m      3\u001b[0m \u001b[0mprint\u001b[0m\u001b[0;34m(\u001b[0m\u001b[0mresult\u001b[0m\u001b[0;34m)\u001b[0m\u001b[0;34m\u001b[0m\u001b[0m\n",
      "\u001b[0;32m/opt/conda/envs/pytorch-v0.4.1/lib/python3.7/site-packages/torch/nn/modules/module.py\u001b[0m in \u001b[0;36m__call__\u001b[0;34m(self, *input, **kwargs)\u001b[0m\n\u001b[1;32m    475\u001b[0m             \u001b[0mresult\u001b[0m \u001b[0;34m=\u001b[0m \u001b[0mself\u001b[0m\u001b[0;34m.\u001b[0m\u001b[0m_slow_forward\u001b[0m\u001b[0;34m(\u001b[0m\u001b[0;34m*\u001b[0m\u001b[0minput\u001b[0m\u001b[0;34m,\u001b[0m \u001b[0;34m**\u001b[0m\u001b[0mkwargs\u001b[0m\u001b[0;34m)\u001b[0m\u001b[0;34m\u001b[0m\u001b[0m\n\u001b[1;32m    476\u001b[0m         \u001b[0;32melse\u001b[0m\u001b[0;34m:\u001b[0m\u001b[0;34m\u001b[0m\u001b[0m\n\u001b[0;32m--> 477\u001b[0;31m             \u001b[0mresult\u001b[0m \u001b[0;34m=\u001b[0m \u001b[0mself\u001b[0m\u001b[0;34m.\u001b[0m\u001b[0mforward\u001b[0m\u001b[0;34m(\u001b[0m\u001b[0;34m*\u001b[0m\u001b[0minput\u001b[0m\u001b[0;34m,\u001b[0m \u001b[0;34m**\u001b[0m\u001b[0mkwargs\u001b[0m\u001b[0;34m)\u001b[0m\u001b[0;34m\u001b[0m\u001b[0m\n\u001b[0m\u001b[1;32m    478\u001b[0m         \u001b[0;32mfor\u001b[0m \u001b[0mhook\u001b[0m \u001b[0;32min\u001b[0m \u001b[0mself\u001b[0m\u001b[0;34m.\u001b[0m\u001b[0m_forward_hooks\u001b[0m\u001b[0;34m.\u001b[0m\u001b[0mvalues\u001b[0m\u001b[0;34m(\u001b[0m\u001b[0;34m)\u001b[0m\u001b[0;34m:\u001b[0m\u001b[0;34m\u001b[0m\u001b[0m\n\u001b[1;32m    479\u001b[0m             \u001b[0mhook_result\u001b[0m \u001b[0;34m=\u001b[0m \u001b[0mhook\u001b[0m\u001b[0;34m(\u001b[0m\u001b[0mself\u001b[0m\u001b[0;34m,\u001b[0m \u001b[0minput\u001b[0m\u001b[0;34m,\u001b[0m \u001b[0mresult\u001b[0m\u001b[0;34m)\u001b[0m\u001b[0;34m\u001b[0m\u001b[0m\n",
      "\u001b[0;32m/opt/conda/envs/pytorch-v0.4.1/lib/python3.7/site-packages/torch/nn/modules/container.py\u001b[0m in \u001b[0;36mforward\u001b[0;34m(self, input)\u001b[0m\n\u001b[1;32m     89\u001b[0m     \u001b[0;32mdef\u001b[0m \u001b[0mforward\u001b[0m\u001b[0;34m(\u001b[0m\u001b[0mself\u001b[0m\u001b[0;34m,\u001b[0m \u001b[0minput\u001b[0m\u001b[0;34m)\u001b[0m\u001b[0;34m:\u001b[0m\u001b[0;34m\u001b[0m\u001b[0m\n\u001b[1;32m     90\u001b[0m         \u001b[0;32mfor\u001b[0m \u001b[0mmodule\u001b[0m \u001b[0;32min\u001b[0m \u001b[0mself\u001b[0m\u001b[0;34m.\u001b[0m\u001b[0m_modules\u001b[0m\u001b[0;34m.\u001b[0m\u001b[0mvalues\u001b[0m\u001b[0;34m(\u001b[0m\u001b[0;34m)\u001b[0m\u001b[0;34m:\u001b[0m\u001b[0;34m\u001b[0m\u001b[0m\n\u001b[0;32m---> 91\u001b[0;31m             \u001b[0minput\u001b[0m \u001b[0;34m=\u001b[0m \u001b[0mmodule\u001b[0m\u001b[0;34m(\u001b[0m\u001b[0minput\u001b[0m\u001b[0;34m)\u001b[0m\u001b[0;34m\u001b[0m\u001b[0m\n\u001b[0m\u001b[1;32m     92\u001b[0m         \u001b[0;32mreturn\u001b[0m \u001b[0minput\u001b[0m\u001b[0;34m\u001b[0m\u001b[0m\n\u001b[1;32m     93\u001b[0m \u001b[0;34m\u001b[0m\u001b[0m\n",
      "\u001b[0;32m/opt/conda/envs/pytorch-v0.4.1/lib/python3.7/site-packages/torch/nn/modules/module.py\u001b[0m in \u001b[0;36m__call__\u001b[0;34m(self, *input, **kwargs)\u001b[0m\n\u001b[1;32m    475\u001b[0m             \u001b[0mresult\u001b[0m \u001b[0;34m=\u001b[0m \u001b[0mself\u001b[0m\u001b[0;34m.\u001b[0m\u001b[0m_slow_forward\u001b[0m\u001b[0;34m(\u001b[0m\u001b[0;34m*\u001b[0m\u001b[0minput\u001b[0m\u001b[0;34m,\u001b[0m \u001b[0;34m**\u001b[0m\u001b[0mkwargs\u001b[0m\u001b[0;34m)\u001b[0m\u001b[0;34m\u001b[0m\u001b[0m\n\u001b[1;32m    476\u001b[0m         \u001b[0;32melse\u001b[0m\u001b[0;34m:\u001b[0m\u001b[0;34m\u001b[0m\u001b[0m\n\u001b[0;32m--> 477\u001b[0;31m             \u001b[0mresult\u001b[0m \u001b[0;34m=\u001b[0m \u001b[0mself\u001b[0m\u001b[0;34m.\u001b[0m\u001b[0mforward\u001b[0m\u001b[0;34m(\u001b[0m\u001b[0;34m*\u001b[0m\u001b[0minput\u001b[0m\u001b[0;34m,\u001b[0m \u001b[0;34m**\u001b[0m\u001b[0mkwargs\u001b[0m\u001b[0;34m)\u001b[0m\u001b[0;34m\u001b[0m\u001b[0m\n\u001b[0m\u001b[1;32m    478\u001b[0m         \u001b[0;32mfor\u001b[0m \u001b[0mhook\u001b[0m \u001b[0;32min\u001b[0m \u001b[0mself\u001b[0m\u001b[0;34m.\u001b[0m\u001b[0m_forward_hooks\u001b[0m\u001b[0;34m.\u001b[0m\u001b[0mvalues\u001b[0m\u001b[0;34m(\u001b[0m\u001b[0;34m)\u001b[0m\u001b[0;34m:\u001b[0m\u001b[0;34m\u001b[0m\u001b[0m\n\u001b[1;32m    479\u001b[0m             \u001b[0mhook_result\u001b[0m \u001b[0;34m=\u001b[0m \u001b[0mhook\u001b[0m\u001b[0;34m(\u001b[0m\u001b[0mself\u001b[0m\u001b[0;34m,\u001b[0m \u001b[0minput\u001b[0m\u001b[0;34m,\u001b[0m \u001b[0mresult\u001b[0m\u001b[0;34m)\u001b[0m\u001b[0;34m\u001b[0m\u001b[0m\n",
      "\u001b[0;32m/opt/conda/envs/pytorch-v0.4.1/lib/python3.7/site-packages/torch/nn/modules/conv.py\u001b[0m in \u001b[0;36mforward\u001b[0;34m(self, input)\u001b[0m\n\u001b[1;32m    299\u001b[0m     \u001b[0;32mdef\u001b[0m \u001b[0mforward\u001b[0m\u001b[0;34m(\u001b[0m\u001b[0mself\u001b[0m\u001b[0;34m,\u001b[0m \u001b[0minput\u001b[0m\u001b[0;34m)\u001b[0m\u001b[0;34m:\u001b[0m\u001b[0;34m\u001b[0m\u001b[0m\n\u001b[1;32m    300\u001b[0m         return F.conv2d(input, self.weight, self.bias, self.stride,\n\u001b[0;32m--> 301\u001b[0;31m                         self.padding, self.dilation, self.groups)\n\u001b[0m\u001b[1;32m    302\u001b[0m \u001b[0;34m\u001b[0m\u001b[0m\n\u001b[1;32m    303\u001b[0m \u001b[0;34m\u001b[0m\u001b[0m\n",
      "\u001b[0;31mRuntimeError\u001b[0m: Expected 4-dimensional input for 4-dimensional weight [16, 1, 3, 3], but got input of size [1, 28, 28] instead"
     ]
    }
   ],
   "source": [
    "single_batch = sample_batch[0]\n",
    "result = encoder(single_batch)\n",
    "print(result)"
   ]
  },
  {
   "cell_type": "markdown",
   "metadata": {},
   "source": [
    "Oops! Let's try that again:"
   ]
  },
  {
   "cell_type": "code",
   "execution_count": 35,
   "metadata": {},
   "outputs": [
    {
     "name": "stdout",
     "output_type": "stream",
     "text": [
      "tensor([[[[11.3624, 11.3624],\n",
      "          [11.3624, 11.3624]],\n",
      "\n",
      "         [[14.5896, 14.5896],\n",
      "          [14.5896, 14.5896]],\n",
      "\n",
      "         [[17.8886, 17.8886],\n",
      "          [17.8886, 17.8886]],\n",
      "\n",
      "         [[ 0.0000,  0.0000],\n",
      "          [ 0.0000,  0.0000]],\n",
      "\n",
      "         [[ 0.5733, 11.0399],\n",
      "          [ 0.5733, 11.0399]],\n",
      "\n",
      "         [[ 7.4776,  7.4776],\n",
      "          [ 7.4776,  7.4776]],\n",
      "\n",
      "         [[ 5.3631,  3.4502],\n",
      "          [ 7.1815,  3.0058]],\n",
      "\n",
      "         [[ 0.0000,  0.0000],\n",
      "          [ 0.0000,  0.0000]]]],\n",
      "       device='cuda:2', grad_fn=<MaxPool2DWithIndicesBackward>)\n"
     ]
    }
   ],
   "source": [
    "single_batch = sample_batch[0].unsqueeze(0)\n",
    "result = encoder(single_batch)\n",
    "print(result)"
   ]
  },
  {
   "cell_type": "markdown",
   "metadata": {},
   "source": [
    "## Denoising autoencoder\n",
    "\n",
    "Autoencoders can also be used to denoise images.\n",
    "\n",
    "![](https://cdn-images-1.medium.com/max/1040/1*SxwRp9i23OM0Up4sEze1QQ@2x.png)\n",
    "\n",
    "First, we need to define the noise creating function:"
   ]
  },
  {
   "cell_type": "code",
   "execution_count": 23,
   "metadata": {},
   "outputs": [
    {
     "data": {
      "image/png": "[encoded data removed]",
      "text/plain": [
       "<Figure size 432x288 with 1 Axes>"
      ]
     },
     "metadata": {},
     "output_type": "display_data"
    }
   ],
   "source": [
    "def add_noise(x):\n",
    "    noise = torch.FloatTensor(x.size()).normal_(0, 1)\n",
    "    if torch.cuda.is_available():\n",
    "        noise = noise.cuda(device=GPU_ID)\n",
    "    return (x + noise).clamp_(-1, 1)\n",
    "\n",
    "\n",
    "noisy_sample = add_noise(sample_batch)\n",
    "show_images(noisy_sample)"
   ]
  },
  {
   "cell_type": "markdown",
   "metadata": {},
   "source": [
    "Let's start training!"
   ]
  },
  {
   "cell_type": "code",
   "execution_count": 24,
   "metadata": {},
   "outputs": [
    {
     "name": "stdout",
     "output_type": "stream",
     "text": [
      "epoch 0: loss 0.199\n",
      "epoch 1: loss 0.183\n",
      "epoch 2: loss 0.181\n",
      "epoch 3: loss 0.180\n",
      "epoch 4: loss 0.179\n",
      "epoch 5: loss 0.178\n",
      "epoch 6: loss 0.178\n",
      "epoch 7: loss 0.177\n",
      "epoch 8: loss 0.177\n",
      "epoch 9: loss 0.176\n",
      "epoch 10: loss 0.176\n",
      "epoch 11: loss 0.175\n",
      "epoch 12: loss 0.175\n",
      "epoch 13: loss 0.175\n",
      "epoch 14: loss 0.175\n",
      "epoch 15: loss 0.174\n",
      "epoch 16: loss 0.174\n",
      "epoch 17: loss 0.174\n",
      "epoch 18: loss 0.173\n",
      "epoch 19: loss 0.173\n",
      "epoch 20: loss 0.173\n",
      "epoch 21: loss 0.173\n",
      "epoch 22: loss 0.172\n",
      "epoch 23: loss 0.172\n",
      "epoch 24: loss 0.172\n",
      "epoch 25: loss 0.172\n",
      "epoch 26: loss 0.172\n",
      "epoch 27: loss 0.171\n",
      "epoch 28: loss 0.172\n",
      "epoch 29: loss 0.171\n",
      "epoch 30: loss 0.171\n",
      "epoch 31: loss 0.171\n",
      "epoch 32: loss 0.171\n",
      "epoch 33: loss 0.170\n",
      "epoch 34: loss 0.170\n",
      "epoch 35: loss 0.170\n",
      "epoch 36: loss 0.170\n",
      "epoch 37: loss 0.170\n",
      "epoch 38: loss 0.170\n",
      "epoch 39: loss 0.170\n",
      "epoch 40: loss 0.169\n",
      "epoch 41: loss 0.169\n",
      "epoch 42: loss 0.169\n",
      "epoch 43: loss 0.169\n",
      "epoch 44: loss 0.169\n",
      "epoch 45: loss 0.169\n",
      "epoch 46: loss 0.169\n",
      "epoch 47: loss 0.169\n",
      "epoch 48: loss 0.169\n",
      "epoch 49: loss 0.168\n",
      "epoch 50: loss 0.168\n",
      "epoch 51: loss 0.168\n",
      "epoch 52: loss 0.168\n",
      "epoch 53: loss 0.168\n",
      "epoch 54: loss 0.168\n",
      "epoch 55: loss 0.168\n",
      "epoch 56: loss 0.168\n",
      "epoch 57: loss 0.168\n",
      "epoch 58: loss 0.168\n",
      "epoch 59: loss 0.167\n",
      "epoch 60: loss 0.167\n",
      "epoch 61: loss 0.167\n",
      "epoch 62: loss 0.167\n",
      "epoch 63: loss 0.167\n"
     ]
    }
   ],
   "source": [
    "NUM_EPOCHS = 64\n",
    "for epoch in range(NUM_EPOCHS):\n",
    "    epoch_loss = 0\n",
    "    with torch.set_grad_enabled(True):\n",
    "        for image, target in batches:\n",
    "            if torch.cuda.is_available():\n",
    "                image = image.cuda(device=GPU_ID)\n",
    "            \n",
    "            noisy_image = add_noise(image)\n",
    "\n",
    "            code = encoder(noisy_image)\n",
    "            reconstruction = decoder(code)\n",
    "            loss = criterion(reconstruction, image)\n",
    "            \n",
    "            optimizer.zero_grad()\n",
    "            loss.backward()\n",
    "            optimizer.step()\n",
    "            epoch_loss += float(loss)\n",
    "            \n",
    "    print(f'epoch {epoch}: loss {epoch_loss/len(batches):.3f}')"
   ]
  },
  {
   "cell_type": "markdown",
   "metadata": {},
   "source": [
    "And again, it's always wise to save progress:"
   ]
  },
  {
   "cell_type": "code",
   "execution_count": 25,
   "metadata": {},
   "outputs": [],
   "source": [
    "if os.path.isfile('denoising.pth'):\n",
    "    print('A checkpoint already exists.')\n",
    "else:\n",
    "    torch.save([encoder.state_dict(), decoder.state_dict()], 'denoising.pth')"
   ]
  },
  {
   "cell_type": "code",
   "execution_count": 26,
   "metadata": {},
   "outputs": [],
   "source": [
    "checkpoint = torch.load('denoising.pth')\n",
    "encoder.load_state_dict(checkpoint[0])\n",
    "decoder.load_state_dict(checkpoint[1])"
   ]
  },
  {
   "cell_type": "markdown",
   "metadata": {},
   "source": [
    "Our noisy inputs were:"
   ]
  },
  {
   "cell_type": "code",
   "execution_count": 27,
   "metadata": {},
   "outputs": [
    {
     "data": {
      "image/png": "[encoded data removed]",
      "text/plain": [
       "<Figure size 432x288 with 1 Axes>"
      ]
     },
     "metadata": {},
     "output_type": "display_data"
    }
   ],
   "source": [
    " show_images(noisy_sample)"
   ]
  },
  {
   "cell_type": "markdown",
   "metadata": {},
   "source": [
    "The autoencoder have made them a bit better:"
   ]
  },
  {
   "cell_type": "code",
   "execution_count": 16,
   "metadata": {},
   "outputs": [
    {
     "data": {
      "image/png": "[encoded data removed]",
      "text/plain": [
       "<Figure size 432x288 with 1 Axes>"
      ]
     },
     "metadata": {},
     "output_type": "display_data"
    }
   ],
   "source": [
    "with torch.no_grad():\n",
    "    show_images(decoder(encoder(noisy_sample)))"
   ]
  }
 ],
 "metadata": {
  "kernelspec": {
   "display_name": "Python 3 (pytorch-v0.4.1)",
   "language": "python",
   "name": "pytorch-v0.4.1"
  },
  "language_info": {
   "codemirror_mode": {
    "name": "ipython",
    "version": 3
   },
   "file_extension": ".py",
   "mimetype": "text/x-python",
   "name": "python",
   "nbconvert_exporter": "python",
   "pygments_lexer": "ipython3",
   "version": "3.7.0"
  }
 },
 "nbformat": 4,
 "nbformat_minor": 2
}
